{
 "cells": [
  {
   "cell_type": "markdown",
   "metadata": {},
   "source": [
    "# How to add extra motors to a diffractometer class\n",
    "\n",
    "Sometimes, it is desired to add additional motor(s) (or other components) to\n",
    "a subclass of [hkl.diffract.Diffractometer()](https://blueskyproject.io/hklpy/diffract.html#hkl.diffract.Diffractometer).\n",
    "\n",
    "**Objective**\n",
    "\n",
    "Add one or more real positioners to the standard positioners\n",
    "of the 4-circle diffractometer (E4CV geometry).  Use simulated \n",
    "motors for the example (no EPICS required)."
   ]
  },
  {
   "cell_type": "markdown",
   "metadata": {},
   "source": [
    "## Imports\n",
    "\n",
    "Since the *hklpy* package is a thin interface to the *hkl*\n",
    "library (compiled C++ code), we need to **first** load the\n",
    "*gobject-introspection* package (`gi`, by name) and name our\n",
    "required code and version.\n",
    "\n",
    "This is needed _every_ time before the *hkl* package is first imported."
   ]
  },
  {
   "cell_type": "code",
   "execution_count": 1,
   "metadata": {},
   "outputs": [],
   "source": [
    "import gi\n",
    "gi.require_version('Hkl', '5.0')"
   ]
  },
  {
   "cell_type": "markdown",
   "metadata": {},
   "source": [
    "Import the additional ophyd and hklpy needed for the example."
   ]
  },
  {
   "cell_type": "markdown",
   "metadata": {},
   "source": [
    "## Standard 4-circle\n",
    "\n",
    "First, we start with the setup of a [4-circle diffractometer](https://blueskyproject.io/hklpy/examples/notebooks/geo_e4cv.html#define-this-diffractometer) (E4CV is the name of the geometry).  The [E4CV geometry](https://blueskyproject.io/hklpy/geometry_tables.html#geometries-indexed-by-number-of-circles) requires these real positioners for the diffractometer circles: `omega`, `chi`, `phi`, and `tth`.  For simulated axes without using EPICS, we use the [ophyd.SoftPositioner](https://blueskyproject.io/ophyd/positioners.html#softpositioner).  We'll use the (default) [hkl calculation engine](https://blueskyproject.io/hklpy/geometry_tables.html#e4cv-table) which requires pseudo-positioners `h`, `k`, and `l`.  These pseudo-positioners are provided by the `hkl.geometries.SimMixin` class."
   ]
  },
  {
   "cell_type": "code",
   "execution_count": 2,
   "metadata": {},
   "outputs": [],
   "source": [
    "from hkl import E4CV, SimMixin\n",
    "from ophyd import SoftPositioner\n",
    "from ophyd import Component\n",
    "\n",
    "class FourCircle(SimMixin, E4CV):\n",
    "    \"\"\"\n",
    "    Our 4-circle.  Eulerian, vertical scattering orientation.\n",
    "    \"\"\"\n",
    "    # the reciprocal axes are defined by SimMixin\n",
    "\n",
    "    omega = Component(SoftPositioner, kind=\"hinted\", limits=(-180, 180), init_pos=0)\n",
    "    chi = Component(SoftPositioner, kind=\"hinted\", limits=(-180, 180), init_pos=0)\n",
    "    phi = Component(SoftPositioner, kind=\"hinted\", limits=(-180, 180), init_pos=0)\n",
    "    tth = Component(SoftPositioner, kind=\"hinted\", limits=(-180, 180), init_pos=0)"
   ]
  },
  {
   "cell_type": "markdown",
   "metadata": {},
   "source": [
    "Then, create the diffractometer object."
   ]
  },
  {
   "cell_type": "code",
   "execution_count": 3,
   "metadata": {},
   "outputs": [
    {
     "name": "stdout",
     "output_type": "stream",
     "text": [
      "fourc = FourCircle(prefix='', name='fourc', settle_time=0.0, timeout=None, egu='', limits=(0, 0), source='computed', read_attrs=['h', 'h.readback', 'h.setpoint', 'k', 'k.readback', 'k.setpoint', 'l', 'l.readback', 'l.setpoint', 'omega', 'chi', 'phi', 'tth'], configuration_attrs=['energy', 'energy_units', 'energy_offset', 'geometry_name', 'class_name', 'sample_name', 'lattice', 'lattice_reciprocal', 'U', 'UB', 'reflections_details', 'ux', 'uy', 'uz', 'diffractometer_name', '_hklpy_version', '_pseudos', '_reals', '_constraints', '_mode', 'orientation_attrs', 'h', 'k', 'l'], concurrent=True)\n"
     ]
    }
   ],
   "source": [
    "fourc = FourCircle(\"\", name=\"fourc\")\n",
    "print(f\"{fourc = }\")"
   ]
  },
  {
   "cell_type": "markdown",
   "metadata": {},
   "source": [
    "Show the configuration of this diffractometer."
   ]
  },
  {
   "cell_type": "code",
   "execution_count": 4,
   "metadata": {},
   "outputs": [
    {
     "name": "stdout",
     "output_type": "stream",
     "text": [
      "===================== ========= =========\n",
      "term                  value     axis_type\n",
      "===================== ========= =========\n",
      "diffractometer        fourc              \n",
      "sample name           main               \n",
      "energy (keV)          8.05092            \n",
      "wavelength (angstrom) 1.54000            \n",
      "calc engine           hkl                \n",
      "mode                  bissector          \n",
      "h                     0.0       pseudo   \n",
      "k                     0.0       pseudo   \n",
      "l                     0.0       pseudo   \n",
      "omega                 0         real     \n",
      "chi                   0         real     \n",
      "phi                   0         real     \n",
      "tth                   0         real     \n",
      "===================== ========= =========\n",
      "\n"
     ]
    },
    {
     "data": {
      "text/plain": [
       "<pyRestTable.rest_table.Table at 0x7f2c26669910>"
      ]
     },
     "execution_count": 4,
     "metadata": {},
     "output_type": "execute_result"
    }
   ],
   "source": [
    "fourc.wh()"
   ]
  },
  {
   "cell_type": "markdown",
   "metadata": {},
   "source": [
    "## Add additional positioner\n",
    "\n",
    "We can use the `FourCircle()` class, defined above, as the base class when we add a positioner.\n",
    "\n",
    "### First, subclass `FourCircle`\n",
    "\n",
    "Let's start by first creating and testing the subclass without an extra positioner."
   ]
  },
  {
   "cell_type": "code",
   "execution_count": 5,
   "metadata": {},
   "outputs": [
    {
     "name": "stdout",
     "output_type": "stream",
     "text": [
      "===================== ========= =========\n",
      "term                  value     axis_type\n",
      "===================== ========= =========\n",
      "diffractometer        e4c                \n",
      "sample name           main               \n",
      "energy (keV)          8.05092            \n",
      "wavelength (angstrom) 1.54000            \n",
      "calc engine           hkl                \n",
      "mode                  bissector          \n",
      "h                     0.0       pseudo   \n",
      "k                     0.0       pseudo   \n",
      "l                     0.0       pseudo   \n",
      "omega                 0         real     \n",
      "chi                   0         real     \n",
      "phi                   0         real     \n",
      "tth                   0         real     \n",
      "===================== ========= =========\n",
      "\n"
     ]
    },
    {
     "data": {
      "text/plain": [
       "<pyRestTable.rest_table.Table at 0x7f2c6bd27190>"
      ]
     },
     "execution_count": 5,
     "metadata": {},
     "output_type": "execute_result"
    }
   ],
   "source": [
    "class EnhancedFourCircle(FourCircle):\n",
    "    pass\n",
    "\n",
    "e4c = EnhancedFourCircle(\"\", name=\"e4c\")\n",
    "e4c.wh()"
   ]
  },
  {
   "cell_type": "markdown",
   "metadata": {},
   "source": [
    "Compare these tables for the `fourc` and `e4c`, they are identical except for the name difference."
   ]
  },
  {
   "cell_type": "markdown",
   "metadata": {},
   "source": [
    "### Customize the subclass\n",
    "\n",
    "Following a pattern, we simply add a *spinner* motor to the class and create a new diffractometer object.  Our simulated *spinner* will use `rotations` as units and we'll set it up to allow +/- 10,000 rotations. We'll show you the first attempt (but **do NOT execute this code** for reasons explained below):\n",
    "\n",
    "```python\n",
    "class EnhancedFourCircle(FourCircle):\n",
    "    spinner = Component(SoftPositioner, kind=\"hinted\", limits=(-10000, 10000), egu=\"rotations\", init_pos=0)\n",
    "\n",
    "e4c = EnhancedFourCircle(\"\", name=\"e4c\")\n",
    "e4c.wh()\n",
    "```\n",
    "\n",
    "But, if you actually execute this code, you crash the Python kernel directly with no ability to interrupt that failure.  (So we only *show* you this code and do not provide it in an executable notebook cell.)\n",
    "\n",
    "**Q**: What goes wrong?\n",
    "**A**: The `Diffractometer` class is a subclass of the [ophyd.PseudoPositioner](https://blueskyproject.io/ophyd/positioners.html?highlight=pseudopositioner#pseudopositioner).  The PseudoPositioner maintains the transforms between the *real* axes and the *pseudo* axes through `.forward()` and `.inverse()` transformation methods.  These two methods expect a fixed set of axis names, yet the new `spinner` Component has been added to the list of real axes.  This extra real axis cause the failure observed.  That error *would* get caught by Python under other circumstances.  Since `Diffractometer.forward()` and `Diffractometer.inverse()` call the underlying *libhkl* code with the full list of real positioners, and that code does not handle this error gracefully, so the entire Python process crashes out, without further diagnostic.\n",
    "\n",
    "**Q**: How *should* it be done so Python does not crash?  **A**: The `PseudoPositioner` has a feature for exactly this case: `._real` is a list of the names of the Components that are needed specifically by `.forward()` and `.inverse()`.  (In our 4-circle example, this would be `_real = [\"omega\", \"chi\", \"phi\", \"tth\"]`)  If we define this list in our subclass, *then* we can add as many *real* components as we wish."
   ]
  },
  {
   "cell_type": "code",
   "execution_count": 6,
   "metadata": {},
   "outputs": [
    {
     "name": "stdout",
     "output_type": "stream",
     "text": [
      "===================== ========= ==========\n",
      "term                  value     axis_type \n",
      "===================== ========= ==========\n",
      "diffractometer        e4c                 \n",
      "sample name           main                \n",
      "energy (keV)          8.05092             \n",
      "wavelength (angstrom) 1.54000             \n",
      "calc engine           hkl                 \n",
      "mode                  bissector           \n",
      "h                     0.0       pseudo    \n",
      "k                     0.0       pseudo    \n",
      "l                     0.0       pseudo    \n",
      "omega                 0         real      \n",
      "chi                   0         real      \n",
      "phi                   0         real      \n",
      "tth                   0         real      \n",
      "spinner               0         additional\n",
      "===================== ========= ==========\n",
      "\n"
     ]
    },
    {
     "data": {
      "text/plain": [
       "<pyRestTable.rest_table.Table at 0x7f2c2562c5b0>"
      ]
     },
     "execution_count": 6,
     "metadata": {},
     "output_type": "execute_result"
    }
   ],
   "source": [
    "class EnhancedFourCircle(FourCircle):\n",
    "    _real = [\"omega\", \"chi\", \"phi\", \"tth\"]\n",
    "    spinner = Component(SoftPositioner, kind=\"hinted\", limits=(-10000, 10000), egu=\"rotations\", init_pos=0)\n",
    "\n",
    "e4c = EnhancedFourCircle(\"\", name=\"e4c\")\n",
    "e4c.wh()"
   ]
  },
  {
   "cell_type": "markdown",
   "metadata": {},
   "source": [
    "Show that we can still use both `.forward()` and `.inverse()` methods."
   ]
  },
  {
   "cell_type": "code",
   "execution_count": 7,
   "metadata": {},
   "outputs": [
    {
     "name": "stdout",
     "output_type": "stream",
     "text": [
      "fourc.forward(1, 1, 0) = PosCalcE4CV(omega=44.99999999999999, chi=45.00000000000001, phi=89.99999999999999, tth=89.99999999999999)\n",
      "fourc.inverse((30, 0, 0, 60)) = FourCirclePseudoPos(h=-1.0461952917773851e-16, k=6.123233995736767e-17, l=1.0)\n"
     ]
    }
   ],
   "source": [
    "print(f\"{fourc.forward(1, 1, 0) = }\")\n",
    "print(f\"{fourc.inverse((30, 0, 0, 60)) = }\")"
   ]
  },
  {
   "cell_type": "markdown",
   "metadata": {},
   "source": [
    "## Can we add other pseudo axes?\n",
    "\n",
    "**Q**: With this capability to add additional Components as real positioners, can we add axes to the pseudo positioners?\n",
    "\n",
    "**A**: Unfortunately, [no](https://github.com/bluesky/ophyd/issues/924#issuecomment-718177332).  That capability is not built into the ophyd PseudoPositioner at this time."
   ]
  },
  {
   "cell_type": "markdown",
   "metadata": {},
   "source": [
    "## Add additional Signals and Devices\n",
    "\n",
    "Finally, we add additional Signals and Devices as Components as a demonstration."
   ]
  },
  {
   "cell_type": "code",
   "execution_count": 8,
   "metadata": {},
   "outputs": [
    {
     "name": "stdout",
     "output_type": "stream",
     "text": [
      "===================== ========= ==========\n",
      "term                  value     axis_type \n",
      "===================== ========= ==========\n",
      "diffractometer        e4c                 \n",
      "sample name           main                \n",
      "energy (keV)          8.05092             \n",
      "wavelength (angstrom) 1.54000             \n",
      "calc engine           hkl                 \n",
      "mode                  bissector           \n",
      "h                     0.0       pseudo    \n",
      "k                     0.0       pseudo    \n",
      "l                     0.0       pseudo    \n",
      "omega                 0         real      \n",
      "chi                   0         real      \n",
      "phi                   0         real      \n",
      "tth                   0         real      \n",
      "spinner               0         additional\n",
      "===================== ========= ==========\n",
      "\n"
     ]
    },
    {
     "data": {
      "text/plain": [
       "<pyRestTable.rest_table.Table at 0x7f2c255e21f0>"
      ]
     },
     "execution_count": 8,
     "metadata": {},
     "output_type": "execute_result"
    }
   ],
   "source": [
    "from ophyd import Signal, Device\n",
    "from ophyd.signal import SignalRO\n",
    "\n",
    "class XYStage(Device):\n",
    "    x = Component(SoftPositioner, kind=\"hinted\", limits=(-20, 105), init_pos=0)\n",
    "    y = Component(SoftPositioner, kind=\"hinted\", limits=(-20, 105), init_pos=0)\n",
    "    solenoid_lock = Component(Signal, value=True)\n",
    "\n",
    "class EnhancedFourCircle(FourCircle):\n",
    "    _real = [\"omega\", \"chi\", \"phi\", \"tth\"]\n",
    "    spinner = Component(SoftPositioner, kind=\"hinted\", limits=(-10000, 10000), egu=\"rotations\", init_pos=0)\n",
    "    some_signal = Component(Signal, value=0)\n",
    "    other_signal = Component(SignalRO, value=0)\n",
    "    xy = Component(XYStage)\n",
    "\n",
    "e4c = EnhancedFourCircle(\"\", name=\"e4c\")\n",
    "e4c.wh()"
   ]
  },
  {
   "cell_type": "markdown",
   "metadata": {},
   "source": [
    "## Challenges\n",
    "\n",
    "1. Use `EpicsMotor` instead of `SoftPositioner` (and connect with PVs of your EPICS system.)\n",
    "1. Use `EpicsSignal` instead of `Signal`\n",
    "1. Use `EpicsSignalRO` instead of `SignalRO`"
   ]
  }
 ],
 "metadata": {
  "kernelspec": {
   "display_name": "bluesky_2021_1",
   "language": "python",
   "name": "bluesky_2021_1"
  },
  "language_info": {
   "codemirror_mode": {
    "name": "ipython",
    "version": 3
   },
   "file_extension": ".py",
   "mimetype": "text/x-python",
   "name": "python",
   "nbconvert_exporter": "python",
   "pygments_lexer": "ipython3",
   "version": "3.8.8"
  }
 },
 "nbformat": 4,
 "nbformat_minor": 4
}
