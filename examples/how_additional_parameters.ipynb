{
 "cells": [
  {
   "cell_type": "markdown",
   "id": "digital-oriental",
   "metadata": {},
   "source": [
    "# Diffractometer \"Parameters\"\n",
    "\n",
    "Some of the diffractometer _modes_ use additional parameters.  The [E4CV](https://people.debian.org/~picca/hkl/hkl.html#org7ef08ba) geometry, for example, has a `double_diffraction` mode which requires a reference $hkl_2$ vector.  The vector is set and accessed by a Python command that calls directly the corresponding *libhkl* function:\n",
    "\n",
    "action | `E4CV` method\n",
    ":--- | :---\n",
    "read names | `e4cv.calc.engine._engine.parameters_names_get(units_code)`\n",
    "read values | `e4cv.calc.engine._engine.parameters_values_get(units_code)`\n",
    "write names | Names are pre-defined by *libhkl* and cannot be changed.\n",
    "write values | `e4cv.calc.engine._engine.parameters_values_set(values, units_code)`\n",
    "\n",
    "**Objective**\n",
    "\n",
    "Show how to use the `double_diffraction` mode in the `E4CV` geometry."
   ]
  },
  {
   "cell_type": "markdown",
   "id": "piano-chart",
   "metadata": {},
   "source": [
    "First, we start by importing the `gi` (gobject-introspection) package which is required to link the *libhkl* library `('Hkl', 5.0)` into Python. Then import the constant, `A_KEV` (product of Planck's constant and speed of light in a vacuum).  The value of this constant is obtained from the [2019 NIST publication of 2018 CODATA Fundamental Physical Constants](https://www.nist.gov/programs-projects/codata-values-fundamental-physical-constants)."
   ]
  },
  {
   "cell_type": "code",
   "execution_count": 1,
   "id": "smart-concentration",
   "metadata": {},
   "outputs": [],
   "source": [
    "import gi\n",
    "gi.require_version('Hkl', '5.0')\n",
    "from hkl import A_KEV"
   ]
  },
  {
   "cell_type": "markdown",
   "id": "assigned-length",
   "metadata": {},
   "source": [
    "## `E4CV`, `hkl`, `double_diffraction`\n",
    "\n",
    "term | value\n",
    ":--- | :---\n",
    "geometry | `E4CV`\n",
    "engine | `hkl`\n",
    "mode | `double_diffraction`\n",
    "\n",
    "Using the standard `E4CV` geometry with simulated motors, we copy the [E4CV setup for the *LNO_LAO* sample](https://blueskyproject.io/hklpy/examples/notebooks/tst_e4cv_fourc.html#read-the-spec-scan-from-the-data-file).  Using a kwarg, we can automatically compute the UB matrix once we define the second reflection.  (This means we do not have to call `compute_UB()` on a separate line.)"
   ]
  },
  {
   "cell_type": "code",
   "execution_count": 2,
   "id": "adapted-minnesota",
   "metadata": {
    "tags": []
   },
   "outputs": [],
   "source": [
    "from hkl import SimulatedE4CV\n",
    "e4cv = SimulatedE4CV(\"\", name=\"e4cv\")\n",
    "\n",
    "# order:  a b c  alpha beta gamma\n",
    "lattice = (3.781726143, 3.791444574, 3.79890313, 90.2546203, 90.01815424, 89.89967858)\n",
    "e4cv.calc.new_sample(\"LNO_LAO\", lattice=lattice)\n",
    "\n",
    "wavelength = 1.239424258\n",
    "e4cv.energy.put(A_KEV / wavelength)\n",
    "\n",
    "# order:   omega    chi      phi  tth\n",
    "p_002 = (19.1335, 90.0135, 0.0, 38.09875)\n",
    "r_002 = e4cv.calc.sample.add_reflection(0, 0, 2, p_002)\n",
    "\n",
    "p_113 = (32.82125, 115.23625, 48.1315, 65.644)\n",
    "r_113 = e4cv.calc.sample.add_reflection(1, 1, 3, p_113, compute_ub=True)\n",
    "\n",
    "# e4cv.calc.sample.compute_UB(r_002, r_113)"
   ]
  },
  {
   "cell_type": "markdown",
   "id": "manual-harmony",
   "metadata": {},
   "source": [
    "Set the `double_diffraction` mode."
   ]
  },
  {
   "cell_type": "code",
   "execution_count": 3,
   "id": "twelve-gathering",
   "metadata": {},
   "outputs": [
    {
     "name": "stdout",
     "output_type": "stream",
     "text": [
      "e4cv.calc.engine.mode = 'bissector'\n",
      "e4cv.calc.engine.mode = 'double_diffraction'\n"
     ]
    }
   ],
   "source": [
    "print(f\"{e4cv.calc.engine.mode = }\")\n",
    "e4cv.calc.engine.mode = \"double_diffraction\"\n",
    "print(f\"{e4cv.calc.engine.mode = }\")"
   ]
  },
  {
   "cell_type": "markdown",
   "id": "japanese-startup",
   "metadata": {},
   "source": [
    "To read and write the $hkl_2$ parameters (`h2`, `k2`, `l2`), we must use (at least for now) the low-level *libhkl* interface.  Expect this code to become easier in a future *hklpy* release."
   ]
  },
  {
   "cell_type": "markdown",
   "id": "dominican-enlargement",
   "metadata": {},
   "source": [
    "First, there is a shorcut *property* in the `calc` module.  It simplifies a more complicated to the lower level support."
   ]
  },
  {
   "cell_type": "code",
   "execution_count": 4,
   "id": "metallic-frederick",
   "metadata": {},
   "outputs": [
    {
     "data": {
      "text/plain": [
       "['h2', 'k2', 'l2']"
      ]
     },
     "execution_count": 4,
     "metadata": {},
     "output_type": "execute_result"
    }
   ],
   "source": [
    "e4cv.calc.parameters"
   ]
  },
  {
   "cell_type": "markdown",
   "id": "sensitive-payment",
   "metadata": {},
   "source": [
    "This is the lower-level call simplified by the above:"
   ]
  },
  {
   "cell_type": "code",
   "execution_count": 5,
   "id": "extra-character",
   "metadata": {},
   "outputs": [
    {
     "data": {
      "text/plain": [
       "['h2', 'k2', 'l2']"
      ]
     },
     "execution_count": 5,
     "metadata": {},
     "output_type": "execute_result"
    }
   ],
   "source": [
    "e4cv.calc.engine._engine.parameters_names_get()"
   ]
  },
  {
   "cell_type": "markdown",
   "id": "weighted-perth",
   "metadata": {},
   "source": [
    "Read the parameters.  The supplied argument is either `0` or `1`, pick `1` for user units. (*libhkl*: `Hkl.UnitEnum.USER` == 1) although either might give the same result.  This `units` feature of *libhkl* is not used at this time."
   ]
  },
  {
   "cell_type": "code",
   "execution_count": 6,
   "id": "normal-standard",
   "metadata": {},
   "outputs": [
    {
     "data": {
      "text/plain": [
       "[1.0, 1.0, 1.0]"
      ]
     },
     "execution_count": 6,
     "metadata": {},
     "output_type": "execute_result"
    }
   ],
   "source": [
    "e4cv.calc.engine._engine.parameters_values_get(1)"
   ]
  },
  {
   "cell_type": "markdown",
   "id": "crucial-virus",
   "metadata": {},
   "source": [
    "Set the parameters.  First are the values, then the 0 or 1."
   ]
  },
  {
   "cell_type": "code",
   "execution_count": 7,
   "id": "insured-petite",
   "metadata": {},
   "outputs": [
    {
     "data": {
      "text/plain": [
       "1"
      ]
     },
     "execution_count": 7,
     "metadata": {},
     "output_type": "execute_result"
    }
   ],
   "source": [
    "# no shortcut to this one.  Yet.\n",
    "e4cv.calc.engine._engine.parameters_values_set((2,2,0), 1)"
   ]
  },
  {
   "cell_type": "markdown",
   "id": "detected-collapse",
   "metadata": {},
   "source": [
    "## Calculate (002) with (220) as second diffracting plane"
   ]
  },
  {
   "cell_type": "code",
   "execution_count": 8,
   "id": "advance-there",
   "metadata": {},
   "outputs": [
    {
     "name": "stdout",
     "output_type": "stream",
     "text": [
      "e4cv.calc.engine._engine.parameters_values_get(1) = [2.0, 2.0, 0.0]\n",
      "(002) : PosCalcE4CV(omega=19.125954018919906, chi=89.98529317061228, phi=19.05658549375108, tth=38.08406317115545)\n"
     ]
    }
   ],
   "source": [
    "print(f\"{e4cv.calc.engine._engine.parameters_values_get(1) = }\")\n",
    "print(\"(002) :\", e4cv.forward((0, 0, 2)))"
   ]
  },
  {
   "cell_type": "markdown",
   "id": "adolescent-trust",
   "metadata": {},
   "source": [
    "## Calculate (002) with (222) as second diffracting plane"
   ]
  },
  {
   "cell_type": "code",
   "execution_count": 9,
   "id": "proprietary-spray",
   "metadata": {},
   "outputs": [
    {
     "name": "stdout",
     "output_type": "stream",
     "text": [
      "e4cv.calc.engine._engine.parameters_values_get(1) = [2.0, 2.0, 2.0]\n",
      "(002) : PosCalcE4CV(omega=19.125992826777846, chi=89.98551636715723, phi=18.904239486428256, tth=38.084063171155435)\n"
     ]
    }
   ],
   "source": [
    "e4cv.calc.engine._engine.parameters_values_set((2,2,2), 1)\n",
    "print(f\"{e4cv.calc.engine._engine.parameters_values_get(1) = }\")\n",
    "print(\"(002) :\", e4cv.forward((0, 0, 2)))"
   ]
  }
 ],
 "metadata": {
  "kernelspec": {
   "display_name": "bluesky_2021_1",
   "language": "python",
   "name": "bluesky_2021_1"
  },
  "language_info": {
   "codemirror_mode": {
    "name": "ipython",
    "version": 3
   },
   "file_extension": ".py",
   "mimetype": "text/x-python",
   "name": "python",
   "nbconvert_exporter": "python",
   "pygments_lexer": "ipython3",
   "version": "3.8.8"
  }
 },
 "nbformat": 4,
 "nbformat_minor": 5
}
